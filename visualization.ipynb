{
 "cells": [
  {
   "cell_type": "code",
   "execution_count": 1,
   "metadata": {},
   "outputs": [
    {
     "name": "stdout",
     "output_type": "stream",
     "text": [
      "{'PHP': 26468502, 'CSS': 20335304, 'JavaScript': 79505129, 'Python': 23331604, 'C#': 22112520, 'Dockerfile': 85220, 'Shell': 10314793, 'HTML': 63881947, 'VCL': 17018, 'Groovy': 18431146, 'Fortran': 378717, 'Makefile': 3243363, 'Go': 769809, 'R': 176356, 'Lua': 3475313, 'C++': 51004304, 'Mako': 988, 'Perl': 3360945, 'Java': 40866024, 'PowerShell': 286900, 'Rust': 1117, 'MATLAB': 2473383, 'C': 73581979, 'Swift': 1147996, 'Ruby': 37890015, 'Vim script': 17554, 'Batchfile': 49394, 'GDB': 2909, 'Emacs Lisp': 115196, 'Erlang': 1279, 'ASP': 49068, 'ApacheConf': 25600, 'TypeScript': 328846, 'GLSL': 121410, 'Dart': 288571, 'Haskell': 73611, 'Roff': 1723357, 'Awk': 48355, 'Brightscript': 1761028, 'Objective-C': 981776, 'Logos': 180, 'Arduino': 199088, 'Processing': 128261, 'Smalltalk': 436, 'GCC Machine Description': 201, 'XSLT': 1298488, 'Tcl': 787406, 'Groff': 51935, 'Assembly': 376031, 'Kotlin': 200866, 'QMake': 18784, 'CMake': 694849, 'Visual Basic': 1598731, 'CoffeeScript': 4085487, 'QML': 221, 'SourcePawn': 234091, 'Brainfuck': 12484, 'Forth': 12484, 'GAP': 12484, 'Vue': 71765, 'TeX': 168699, 'NSIS': 4550, 'AutoHotkey': 52822, 'COBOL': 24909, 'Mathematica': 1090935, 'Jupyter Notebook': 4744264, 'Inno Setup': 226392, 'M4': 306941, 'AMPL': 14922, 'Clarion': 3012, 'ColdFusion': 4426, 'OpenSCAD': 1067, 'Pure Data': 123375, 'Prolog': 1035, 'F#': 20640, 'Propeller Spin': 125308, 'Objective-C++': 1882, 'Racket': 3482620, 'Nix': 1247, 'Lex': 15542, 'M': 482, 'RobotFramework': 2586, 'PostScript': 485, 'Diff': 424, 'PLpgSQL': 251851, 'PLSQL': 25601, 'Haxe': 797724, 'Scala': 663, 'GDScript': 10344, 'Scheme': 4988, 'Meson': 7265, 'AppleScript': 2214, 'Gherkin': 7622, 'DIGITAL Command Language': 592837, 'Ragel': 5352, 'Yacc': 4650, 'Isabelle': 515}\n"
     ]
    }
   ],
   "source": [
    "import pickle\n",
    "\n",
    "with open('pickles/languages_by_state_pickles/Alabama.pkl', 'rb') as f:\n",
    "    languages_per_state  = pickle.load(f)\n",
    "print(languages_per_state)"
   ]
  },
  {
   "cell_type": "code",
   "execution_count": null,
   "metadata": {},
   "outputs": [],
   "source": []
  }
 ],
 "metadata": {
  "kernelspec": {
   "display_name": "Python 3 (Spyder)",
   "language": "python3",
   "name": "python3"
  },
  "language_info": {
   "codemirror_mode": {
    "name": "ipython",
    "version": 3
   },
   "file_extension": ".py",
   "mimetype": "text/x-python",
   "name": "python",
   "nbconvert_exporter": "python",
   "pygments_lexer": "ipython3",
   "version": "3.7.1"
  }
 },
 "nbformat": 4,
 "nbformat_minor": 2
}
