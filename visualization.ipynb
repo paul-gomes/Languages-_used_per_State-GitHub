{
 "cells": [
  {
   "cell_type": "code",
   "execution_count": 47,
   "metadata": {},
   "outputs": [],
   "source": [
    "states = ['Alabama', 'Alaska', 'Arizona', 'Arkansas']"
   ]
  },
  {
   "cell_type": "markdown",
   "metadata": {},
   "source": [
    "### Reading the pickles and finding average bytes of code written in various languages for every state "
   ]
  },
  {
   "cell_type": "code",
   "execution_count": 48,
   "metadata": {},
   "outputs": [
    {
     "name": "stdout",
     "output_type": "stream",
     "text": [
      "914\n",
      "439\n",
      "3286\n",
      "744\n",
      "{'Alabama': [('C', 3316236.863), ('HTML', 2931215.745), ('C++', 1598227.551), ('JavaScript', 1062064.775), ('C#', 997652.484), ('Java', 858131.48), ('Python', 663808.658), ('PHP', 509989.873), ('Pascal', 314974.955), ('Ruby', 205743.414)], 'Alaska': [('C', 8497578.237), ('C++', 1972404.69), ('HTML', 1800492.85), ('JavaScript', 1356046.64), ('Java', 1002265.478), ('Jupyter Notebook', 706421.738), ('LLVM', 564067.916), ('PHP', 548828.984), ('Python', 515417.847), ('C#', 477527.829)], 'Arizona': [('C', 7597071.564), ('JavaScript', 2152088.236), ('C++', 1461723.019), ('HTML', 1341147.329), ('Python', 1229411.502), ('Java', 1072525.474), ('Jupyter Notebook', 953258.788), ('PHP', 645123.527), ('C#', 401968.816), ('CSS', 264219.49)], 'Arkansas': [('C', 18166755.659), ('HTML', 7798431.38), ('JavaScript', 2717593.656), ('C++', 2653386.548), ('Java', 2625578.29), ('C#', 1627565.202), ('Python', 1358862.817), ('Objective-C', 991465.976), ('Jupyter Notebook', 887302.663), ('PHP', 848215.892)]}\n"
     ]
    }
   ],
   "source": [
    "import pickle\n",
    "\n",
    "languages_per_state = {}\n",
    "\n",
    "for state in states:\n",
    "    #Loads users for every state\n",
    "    with open('pickles/users_pickles/{}.pkl'.format(state), 'rb') as f:\n",
    "        users  = pickle.load(f)\n",
    "\n",
    "    num_of_users = len(users.get(state))\n",
    "\n",
    "    #Loads languages in bytes for every state\n",
    "    with open('pickles/languages_by_state_pickles/{}.pkl'.format(state), 'rb') as f:\n",
    "        languages  = pickle.load(f)\n",
    "\n",
    "    #Goes through the dictionary and finds the average\n",
    "    for key,value in languages.items():\n",
    "        languages[key] = round(value/num_of_users, 3)\n",
    "\n",
    "    #sorts the language_per_state dictionary in descending order by value\n",
    "    languages = (sorted(languages.items(), key = \n",
    "                 lambda language:(language[1]), reverse=True))\n",
    "    languages_per_state[state] = languages[:10]\n",
    "\n",
    "print(languages_per_state)    "
   ]
  },
  {
   "cell_type": "markdown",
   "metadata": {},
   "source": [
    "### Draws treemap of languages for every states"
   ]
  },
  {
   "cell_type": "code",
   "execution_count": 59,
   "metadata": {},
   "outputs": [
    {
     "ename": "TypeError",
     "evalue": "text() missing 2 required positional arguments: 'y' and 's'",
     "output_type": "error",
     "traceback": [
      "Traceback \u001b[1;36m(most recent call last)\u001b[0m:\n",
      "\u001b[1;36m  File \u001b[1;32m\"<ipython-input-59-b14bccdb3389>\"\u001b[1;36m, line \u001b[1;32m7\u001b[1;36m, in \u001b[1;35m<module>\u001b[1;36m\u001b[0m\n\u001b[1;33m    plt.text('Hello')\u001b[0m\n",
      "\u001b[1;31mTypeError\u001b[0m\u001b[1;31m:\u001b[0m text() missing 2 required positional arguments: 'y' and 's'\n"
     ]
    },
    {
     "data": {
      "image/png": "[encoded data removed]",
      "text/plain": [
       "<Figure size 432x288 with 1 Axes>"
      ]
     },
     "metadata": {},
     "output_type": "display_data"
    }
   ],
   "source": [
    "import matplotlib.pyplot as plt\n",
    "import squarify\n",
    "\n",
    "for key,value in languages_per_state.items():\n",
    "    plt.title('Tree map for {}'.format(key))\n",
    "    squarify.plot(sizes=[number[1] for number in value], label=[language[0] for language in value], alpha=.8 )\n",
    "    plt.text(0.5, 0.5)\n",
    "    plt.axis('off')\n",
    "    plt.show()\n"
   ]
  },
  {
   "cell_type": "code",
   "execution_count": null,
   "metadata": {},
   "outputs": [],
   "source": []
  }
 ],
 "metadata": {
  "kernelspec": {
   "display_name": "Python 3 (Spyder)",
   "language": "python3",
   "name": "python3"
  },
  "language_info": {
   "codemirror_mode": {
    "name": "ipython",
    "version": 3
   },
   "file_extension": ".py",
   "mimetype": "text/x-python",
   "name": "python",
   "nbconvert_exporter": "python",
   "pygments_lexer": "ipython3",
   "version": "3.7.1"
  }
 },
 "nbformat": 4,
 "nbformat_minor": 2
}
