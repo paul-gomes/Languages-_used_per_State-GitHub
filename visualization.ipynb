{
 "cells": [
  {
   "cell_type": "code",
   "execution_count": 17,
   "metadata": {},
   "outputs": [],
   "source": [
    "states = {\n",
    "    'Alabama': 'AL',\n",
    "    'Alaska': 'AK',\n",
    "    'Arizona': 'AZ',\n",
    "    'Arkansas': 'AR'\n",
    "}\n",
    "us_state_abbrev = {\n",
    "    'Alabama': 'AL',\n",
    "    'Alaska': 'AK',\n",
    "    'Arizona': 'AZ',\n",
    "    'Arkansas': 'AR',\n",
    "    'California': 'CA',\n",
    "    'Colorado': 'CO',\n",
    "    'Connecticut': 'CT',\n",
    "    'Delaware': 'DE',\n",
    "    'Florida': 'FL',\n",
    "    'Georgia': 'GA',\n",
    "    'Hawaii': 'HI',\n",
    "    'Idaho': 'ID',\n",
    "    'Illinois': 'IL',\n",
    "    'Indiana': 'IN',\n",
    "    'Iowa': 'IA',\n",
    "    'Kansas': 'KS',\n",
    "    'Kentucky': 'KY',\n",
    "    'Louisiana': 'LA',\n",
    "    'Maine': 'ME',\n",
    "    'Maryland': 'MD',\n",
    "    'Massachusetts': 'MA',\n",
    "    'Michigan': 'MI',\n",
    "    'Minnesota': 'MN',\n",
    "    'Mississippi': 'MS',\n",
    "    'Missouri': 'MO',\n",
    "    'Montana': 'MT',\n",
    "    'Nebraska': 'NE',\n",
    "    'Nevada': 'NV',\n",
    "    'New Hampshire': 'NH',\n",
    "    'New Jersey': 'NJ',\n",
    "    'New Mexico': 'NM',\n",
    "    'New York': 'NY',\n",
    "    'North Carolina': 'NC',\n",
    "    'North Dakota': 'ND',\n",
    "    'Ohio': 'OH',\n",
    "    'Oklahoma': 'OK',\n",
    "    'Oregon': 'OR',\n",
    "    'Pennsylvania': 'PA',\n",
    "    'Rhode Island': 'RI',\n",
    "    'South Carolina': 'SC',\n",
    "    'South Dakota': 'SD',\n",
    "    'Tennessee': 'TN',\n",
    "    'Texas': 'TX',\n",
    "    'Utah': 'UT',\n",
    "    'Vermont': 'VT',\n",
    "    'Virginia': 'VA',\n",
    "    'Washington': 'WA',\n",
    "    'West Virginia': 'WV',\n",
    "    'Wisconsin': 'WI',\n",
    "    'Wyoming': 'WY',\n",
    "}\n",
    "colors_for_languages = {'C': \"#800000\", 'HTML': \"#FF8C00\", 'C++': \"#A52A2A\", \n",
    "          'JavaScript':\"#FFD700\", 'C#': \"#DC143C\", 'Java': \"#FF0000\",\n",
    "          'Python':\"#FF6347\", 'PHP': \"#FF7F50\", 'Pascal': \"#CD5C5C\", \n",
    "          'Ruby': \"#F08080\", 'Jupyter Notebook': \"#E9967A\", 'LLVM': \"#FA8072\", \n",
    "          'CSS': \"#FFA07A\",'Objective-C': \"#FF4500\"\n",
    "         }"
   ]
  },
  {
   "cell_type": "markdown",
   "metadata": {},
   "source": [
    "### Reading the pickles and finding average bytes of code written in various languages for every state "
   ]
  },
  {
   "cell_type": "code",
   "execution_count": 28,
   "metadata": {},
   "outputs": [
    {
     "name": "stdout",
     "output_type": "stream",
     "text": [
      "      State Code      ...                        FilePath NumberOfUsers\n",
      "0   Alabama   AL      ...        graphs/Alabama_graph.png         914.0\n",
      "1    Alaska   AK      ...         graphs/Alaska_graph.png         439.0\n",
      "2   Arizona   AZ      ...        graphs/Arizona_graph.png        3286.0\n",
      "3  Arkansas   AR      ...       graphs/Arkansas_graph.png         744.0\n",
      "\n",
      "[4 rows x 6 columns]\n"
     ]
    }
   ],
   "source": [
    "import pickle\n",
    "import pandas as pd\n",
    "\n",
    "#Creates a dataframe with coloum State and Languages\n",
    "languages_per_state_df = pd.DataFrame(columns=['State', 'Code', 'Languages', 'NumberOfUsers' 'FilePath'])\n",
    "\n",
    "for state, code in states.items():\n",
    "    #Loads users for every state\n",
    "    with open('pickles/users_pickles/{}.pkl'.format(state), 'rb') as f:\n",
    "        users  = pickle.load(f)\n",
    "\n",
    "    num_of_users = len(users.get(state))\n",
    "\n",
    "    #Loads languages in bytes for every state\n",
    "    with open('pickles/languages_by_state_pickles/{}.pkl'.format(state), 'rb') as f:\n",
    "        languages  = pickle.load(f)\n",
    "\n",
    "    #Goes through the dictionary and finds the average\n",
    "    for key,value in languages.items():\n",
    "        languages[key] = round(value/num_of_users, 3)\n",
    "\n",
    "    #sorts the language_per_state dictionary in descending order by value\n",
    "    languages = (sorted(languages.items(), key = \n",
    "                 lambda language:(language[1]), reverse=True))\n",
    "    \n",
    "    #Appendes state and top 10 languages for that state as a row in the dataframe\n",
    "    languages_per_state_df = languages_per_state_df.append({'State': state, 'Code': code, 'Languages': languages[:10],'NumberOfUsers': num_of_users,  'FilePath': 'graphs/{}_graph.png'.format(state)}, ignore_index=True)\n",
    "    print\n",
    "\n",
    "print(languages_per_state_df)    "
   ]
  },
  {
   "cell_type": "markdown",
   "metadata": {},
   "source": [
    "### Draws treemap of languages for every states"
   ]
  },
  {
   "cell_type": "code",
   "execution_count": 29,
   "metadata": {},
   "outputs": [
    {
     "data": {
      "text/plain": [
       "'\\nfor row in languages_per_state_df.head().itertuples():\\n     #draw_treemap(row.State, row.Languages)\\n'"
      ]
     },
     "execution_count": 29,
     "metadata": {},
     "output_type": "execute_result"
    }
   ],
   "source": [
    "import matplotlib.pyplot as plt\n",
    "import squarify\n",
    "\n",
    "def draw_treemap(state, languages):\n",
    "    fig = plt.figure(figsize=(9, 9))\n",
    "    plt.title(state)\n",
    "    sum_top_10 = sum([language[1] for language in languages])\n",
    "    labels=[\"{}\\n{}%\".format(language[0], round((language[1]/sum_top_10)*100, 2)) for language in languages]\n",
    "    colors = [colors_for_languages.get(language[0]) for language in languages]\n",
    "    squarify.plot(sizes=[language[1] for language in languages], label=labels, alpha=.8, color=colors)\n",
    "    plt.axis('off')\n",
    "    fig.savefig('graphs/{}_graph.png'.format(state))\n",
    "    \n",
    "'''\n",
    "for row in languages_per_state_df.head().itertuples():\n",
    "     #draw_treemap(row.State, row.Languages)\n",
    "'''\n"
   ]
  },
  {
   "cell_type": "code",
   "execution_count": 50,
   "metadata": {},
   "outputs": [
    {
     "name": "stdout",
     "output_type": "stream",
     "text": [
      "Alabama_graph\n",
      "Alaska_graph\n",
      "Arizona_graph\n",
      "Arkansas_graph\n"
     ]
    },
    {
     "data": {
      "application/vnd.jupyter.widget-view+json": {
       "model_id": "9b1f3b28aa8e44108653dad5d277d8c4",
       "version_major": 2,
       "version_minor": 0
      },
      "text/plain": [
       "Image(value=b'\\x89PNG\\r\\n\\x1a\\n\\x00\\x00\\x00\\rIHDR\\x00\\x00\\x02\\x88\\x00\\x00\\x02\\x88\\x08\\x06\\x00\\x00\\x00\\xf3I\\x0b…"
      ]
     },
     "metadata": {},
     "output_type": "display_data"
    }
   ],
   "source": [
    "import os\n",
    "image = {}\n",
    "for img_filename in os.listdir('graphs/'):\n",
    "    image_name = img_filename.split('.')[0]\n",
    "    print(image_name)\n",
    "    with open(f\"graphs/{img_filename}\", \"rb\") as f:\n",
    "        b = f.read()\n",
    "        image[image_name] = b\n",
    "\n",
    "from ipywidgets import Image\n",
    "Image(value=image['Alaska_graph'])\n",
    "\n"
   ]
  },
  {
   "cell_type": "code",
   "execution_count": 32,
   "metadata": {},
   "outputs": [
    {
     "ename": "NameError",
     "evalue": "name 'cars_df' is not defined",
     "output_type": "error",
     "traceback": [
      "Traceback \u001b[1;36m(most recent call last)\u001b[0m:\n",
      "\u001b[1;36m  File \u001b[1;32m\"<ipython-input-32-eee78e430cca>\"\u001b[1;36m, line \u001b[1;32m6\u001b[1;36m, in \u001b[1;35m<module>\u001b[1;36m\u001b[0m\n\u001b[1;33m    x=cars_df['Torque'],\u001b[0m\n",
      "\u001b[1;31mNameError\u001b[0m\u001b[1;31m:\u001b[0m name 'cars_df' is not defined\n"
     ]
    }
   ],
   "source": [
    "import plotly.graph_objs as go\n",
    "fig = go.FigureWidget(\n",
    "    data=[\n",
    "        dict(\n",
    "            type='scattergl',\n",
    "            x=cars_df['Torque'],\n",
    "            y=cars_df['City mpg'],\n",
    "            mode='markers',\n",
    "        )\n",
    "    ],\n",
    ")"
   ]
  },
  {
   "cell_type": "code",
   "execution_count": 79,
   "metadata": {},
   "outputs": [
    {
     "data": {
      "text/html": [
       "        <script type=\"text/javascript\">\n",
       "        window.PlotlyConfig = {MathJaxConfig: 'local'};\n",
       "        if (window.MathJax) {MathJax.Hub.Config({SVG: {font: \"STIX-Web\"}});}\n",
       "        if (typeof require !== 'undefined') {\n",
       "        require.undef(\"plotly\");\n",
       "        requirejs.config({\n",
       "            paths: {\n",
       "                'plotly': ['https://cdn.plot.ly/plotly-latest.min']\n",
       "            }\n",
       "        });\n",
       "        require(['plotly'], function(Plotly) {\n",
       "            window._Plotly = Plotly;\n",
       "        });\n",
       "        }\n",
       "        </script>\n",
       "        "
      ]
     },
     "metadata": {},
     "output_type": "display_data"
    },
    {
     "ename": "AttributeError",
     "evalue": "module 'plotly.graph_objs.choropleth' has no attribute 'grid'",
     "output_type": "error",
     "traceback": [
      "Traceback \u001b[1;36m(most recent call last)\u001b[0m:\n",
      "\u001b[1;36m  File \u001b[1;32m\"<ipython-input-79-331757894678>\"\u001b[1;36m, line \u001b[1;32m38\u001b[1;36m, in \u001b[1;35m<module>\u001b[1;36m\u001b[0m\n\u001b[1;33m    grid = go.choropleth.grid.rows(2),\u001b[0m\n",
      "\u001b[1;31mAttributeError\u001b[0m\u001b[1;31m:\u001b[0m module 'plotly.graph_objs.choropleth' has no attribute 'grid'\n"
     ]
    }
   ],
   "source": [
    "import plotly\n",
    "import plotly.plotly as py\n",
    "import plotly.graph_objs as go\n",
    "import pandas as pd\n",
    "from ipywidgets import Image\n",
    " \n",
    "\n",
    "plotly.offline.init_notebook_mode(connected=True)\n",
    "\n",
    "from ipywidgets import Image, Layout\n",
    "image_widget = Image(\n",
    "    value=image['Alabama_graph'],\n",
    "    layout=Layout(height='450px', width='550px')\n",
    ")\n",
    "image_widget\n",
    "\n",
    "\n",
    "def hover(image_name): \n",
    "    print(image_name)\n",
    "    # Update image widget\n",
    "    #model_year = cars_df['Model Year'][ind].replace(' ', '_')\n",
    "    #image_widget.value = image[image_name]\n",
    "\n",
    "#fig.on_hover(hover_fn)\n",
    "\n",
    "data = [go.Choropleth(\n",
    "    #colorscale = scl,\n",
    "    autocolorscale = True,\n",
    "    locations = languages_per_state_df['Code'],\n",
    "    z = languages_per_state_df['NumberOfUsers'].astype(int),\n",
    "    locationmode = 'USA-states',\n",
    "    text = \"\",\n",
    "    marker = go.choropleth.Marker(\n",
    "        line = go.choropleth.marker.Line(\n",
    "            color = 'rgb(255,255,255)',\n",
    "            width = 2\n",
    "        )),\n",
    "    grid = go.choropleth.grid.rows(2),\n",
    ")]\n",
    "\n",
    "layout = go.Layout(\n",
    "    title = go.layout.Title(\n",
    "        text = 'Top 10 languages used in each state (Average bytes per user)<br>(Hover for breakdown)'\n",
    "    ),\n",
    "    geo = go.layout.Geo(\n",
    "        scope = 'usa',\n",
    "        projection = go.layout.geo.Projection(type = 'albers usa'),\n",
    "        showlakes = True,\n",
    "        lakecolor = 'rgb(255, 255, 255)'\n",
    "    ),\n",
    "    images = go.\n",
    ")\n",
    "\n",
    "\n",
    "fig = go.FigureWidget(\n",
    "    data= data,\n",
    "    layout = layout\n",
    ")\n",
    "\n",
    "\n",
    "\n",
    "\n",
    "\n",
    "from ipywidgets import HBox, VBox\n",
    "VBox([fig, HBox([image_widget])])\n",
    "#plotly.offline.iplot(fig, filename = 'd3-cloropleth-map')"
   ]
  },
  {
   "cell_type": "code",
   "execution_count": null,
   "metadata": {},
   "outputs": [],
   "source": []
  },
  {
   "cell_type": "code",
   "execution_count": null,
   "metadata": {},
   "outputs": [],
   "source": [
    "'''\n",
    "for key,value in languages_per_state.items():\n",
    "    fig = plt.figure(figsize=(10, 10))\n",
    "    plt.title('Top 10 languages used in {} (Average bytes per user)'.format(key))\n",
    "    sum_top_10 = sum([language[1] for language in value])\n",
    "    labels=[\"{}\\n{}%\".format(language[0], round((language[1]/sum_top_10)*100, 2)) for language in value]\n",
    "    colors = [colors_for_languages.get(language[0]) for language in value]\n",
    "    squarify.plot(sizes=[language[1] for language in value], label=labels, alpha=.8, color=colors)\n",
    "    plt.axis('off')\n",
    "    plt.show()\n",
    "'''"
   ]
  }
 ],
 "metadata": {
  "kernelspec": {
   "display_name": "Python 3 (Spyder)",
   "language": "python3",
   "name": "python3"
  },
  "language_info": {
   "codemirror_mode": {
    "name": "ipython",
    "version": 3
   },
   "file_extension": ".py",
   "mimetype": "text/x-python",
   "name": "python",
   "nbconvert_exporter": "python",
   "pygments_lexer": "ipython3",
   "version": "3.7.1"
  }
 },
 "nbformat": 4,
 "nbformat_minor": 2
}
